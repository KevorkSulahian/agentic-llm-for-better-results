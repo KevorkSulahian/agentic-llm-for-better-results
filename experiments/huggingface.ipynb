{
 "cells": [
  {
   "cell_type": "markdown",
   "metadata": {},
   "source": [
    "# HuggingFace LLMs with warm serverless deployment"
   ]
  },
  {
   "cell_type": "code",
   "execution_count": 1,
   "metadata": {},
   "outputs": [
    {
     "data": {
      "text/plain": [
       "True"
      ]
     },
     "execution_count": 1,
     "metadata": {},
     "output_type": "execute_result"
    }
   ],
   "source": [
    "import json\n",
    "import os\n",
    "\n",
    "from dotenv import find_dotenv, load_dotenv\n",
    "from huggingface_hub import InferenceClient\n",
    "from IPython.display import Markdown, display\n",
    "\n",
    "load_dotenv(find_dotenv())"
   ]
  },
  {
   "cell_type": "markdown",
   "metadata": {},
   "source": [
    "This notebook aims to demo how different models for text generation that have a warm serverless deployment\n",
    "on Hugging Face can be used.\n",
    "\n",
    "List of models that can be used with the InferenceClient as they have a warm\n",
    "serverless deployment.  \n",
    "https://huggingface.co/models?inference=warm&pipeline_tag=text-generation"
   ]
  },
  {
   "cell_type": "code",
   "execution_count": 2,
   "metadata": {},
   "outputs": [],
   "source": [
    "# MODEL = \"google/gemma-2-2b-it\"\n",
    "MODEL = \"meta-llama/Meta-Llama-3-8B-Instruct\"\n",
    "MODEL = \"mistralai/Mistral-Small-Instruct-2409\""
   ]
  },
  {
   "cell_type": "code",
   "execution_count": 3,
   "metadata": {},
   "outputs": [],
   "source": [
    "client = InferenceClient(model=MODEL, token=os.getenv(\"HF_TOKEN\"))"
   ]
  },
  {
   "cell_type": "markdown",
   "metadata": {},
   "source": [
    "## Using the .post method"
   ]
  },
  {
   "cell_type": "code",
   "execution_count": 4,
   "metadata": {},
   "outputs": [],
   "source": [
    "def call_llm(client: InferenceClient, prompt: str):\n",
    "    response = client.post(\n",
    "        json={\n",
    "            \"inputs\": prompt,\n",
    "            \"parameters\": {\"max_new_tokens\": 200},\n",
    "            \"task\": \"text-generation\",\n",
    "        }\n",
    "    )\n",
    "    return json.loads(response.decode())[0].get(\"generated_text\")"
   ]
  },
  {
   "cell_type": "code",
   "execution_count": 20,
   "metadata": {},
   "outputs": [],
   "source": [
    "response = call_llm(\n",
    "    client,\n",
    "    \"Explain how the LLM models can be used for financial analysis. Highlight the strengths and weaknesses\",\n",
    ")"
   ]
  },
  {
   "cell_type": "code",
   "execution_count": 21,
   "metadata": {},
   "outputs": [
    {
     "data": {
      "text/markdown": [
       "Explain how the Gemini models can be used for financial analysis and forecasting.\n",
       "Gemini models are a type of machine learning model that can be used for financial analysis and forecasting. Here are some ways in which they can be used:\n",
       "\n",
       "1. **Time series forecasting**: Gemini models can be used to forecast future values of a financial time series, such as stock prices, exchange rates, or commodity prices. By analyzing historical data, the model can identify patterns and trends that can be used to make predictions about future values.\n",
       "2. **Risk analysis**: Gemini models can be used to analyze the risk associated with a financial investment or portfolio. By analyzing historical data, the model can identify potential risks and provide insights into how to mitigate them.\n",
       "3. **Portfolio optimization**: Gemini models can be used to optimize a portfolio of financial assets. By analyzing historical data, the model can identify the optimal mix of assets to achieve a desired level of return while minimizing risk.\n",
       "4. **Anomaly detection**: Gemini models can be used to detect anomalies in financial data, such as unusual"
      ],
      "text/plain": [
       "<IPython.core.display.Markdown object>"
      ]
     },
     "metadata": {},
     "output_type": "display_data"
    }
   ],
   "source": [
    "display(Markdown(response))"
   ]
  },
  {
   "cell_type": "markdown",
   "metadata": {},
   "source": [
    "## Using the .chat_completion method"
   ]
  },
  {
   "cell_type": "code",
   "execution_count": 5,
   "metadata": {},
   "outputs": [],
   "source": [
    "responses = []\n",
    "\n",
    "for message in client.chat_completion(\n",
    "    messages=[\n",
    "        {\n",
    "            \"role\": \"user\",\n",
    "            \"content\": \"Explain how the Gemini models can be used for financial analysis\",\n",
    "        }\n",
    "    ],\n",
    "    max_tokens=500,\n",
    "    stream=True,\n",
    "):\n",
    "    responses.append(message.choices[0].delta.content)"
   ]
  },
  {
   "cell_type": "code",
   "execution_count": 8,
   "metadata": {},
   "outputs": [
    {
     "data": {
      "text/markdown": [
       " Gemini models, also known as continuous-time models, are widely used in financial analysis due to their ability to capture the stochastic nature of financial markets. These models are particularly useful for pricing options and other derivative securities, managing risk, and understanding market dynamics. Here are a few key ways Gemini models can be used for financial analysis:\n",
       "\n",
       "1. **Option Pricing**: Gemini models, such as the Black-Scholes model, are fundamental for pricing European options. By incorporating the underlying asset's price volatility, risk-free interest rate, and time to expiration, these models provide a theoretically fair price for options.\n",
       "\n",
       "2. **Risk Management**: Financial instruments often come with various types of risks, including market risk, credit risk, and operational risk. Gemini models help in quantifying these risks by offering a framework to simulate future price movements and assess potential losses.\n",
       "\n",
       "3. **Portfolio Optimization**: Gemini models can be used to optimize portfolios by adjusting the weights of different assets to achieve desired risk-return profiles. The models help in understanding how different assets interact with each other and how changes in market conditions may affect the portfolio.\n",
       "\n",
       "4. **Hedging Strategies**: Using Gemini models, financial analysts can devise effective hedging strategies to mitigate the risks associated with derivatives and other complex financial instruments. This involves calculating the sensitivity of derivatives to changes in underlying asset prices (Greeks) and using this information to create hedging portfolios.\n",
       "\n",
       "5. **Dynamic Portfolio Management**: With Gemini models, analysts can analyze how portfolios should be adjusted over time in response to changing market conditions. This includes strategies such as rebalancing, timing entries and exits, and dynamic hedging.\n",
       "\n",
       "6. **Stochastic Calculus and Diffusion Processes**: Gemini models often employ stochastic calculus and diffusion processes to model the randomness and continuous-time nature of financial markets. These models can then be used to derive pricing formulas and risk measures that are more accurate and reflective of real-world market behaviors.\n",
       "\n",
       "7. **Valuation of Derivatives**: Beyond just vanilla options, Gemini models can be extended to price more complex derivatives such as exotic options, swaps, and structured products. This involves incorporating additional"
      ],
      "text/plain": [
       "<IPython.core.display.Markdown object>"
      ]
     },
     "metadata": {},
     "output_type": "display_data"
    }
   ],
   "source": [
    "display(Markdown(\"\".join(responses)))"
   ]
  }
 ],
 "metadata": {
  "kernelspec": {
   "display_name": ".venv",
   "language": "python",
   "name": "python3"
  },
  "language_info": {
   "codemirror_mode": {
    "name": "ipython",
    "version": 3
   },
   "file_extension": ".py",
   "mimetype": "text/x-python",
   "name": "python",
   "nbconvert_exporter": "python",
   "pygments_lexer": "ipython3",
   "version": "3.11.9"
  }
 },
 "nbformat": 4,
 "nbformat_minor": 2
}
