{
 "cells": [
  {
   "cell_type": "code",
   "execution_count": 1,
   "metadata": {},
   "outputs": [],
   "source": [
    "import feedparser\n",
    "import transformers"
   ]
  },
  {
   "cell_type": "code",
   "execution_count": 3,
   "metadata": {},
   "outputs": [
    {
     "name": "stderr",
     "output_type": "stream",
     "text": [
      "c:\\Users\\kevor\\anaconda3\\Lib\\site-packages\\transformers\\tokenization_utils_base.py:1601: FutureWarning: `clean_up_tokenization_spaces` was not set. It will be set to `True` by default. This behavior will be depracted in transformers v4.45, and will be then set to `False` by default. For more details check this issue: https://github.com/huggingface/transformers/issues/31884\n",
      "  warnings.warn(\n"
     ]
    }
   ],
   "source": [
    "from transformers import pipeline\n",
    "\n",
    "pipe = pipeline(\"text-classification\", model= \"ProsusAI/finbert\", device=0)"
   ]
  },
  {
   "cell_type": "code",
   "execution_count": 4,
   "metadata": {},
   "outputs": [
    {
     "name": "stdout",
     "output_type": "stream",
     "text": [
      "[{'label': 'positive', 'score': 0.7704771757125854}]\n"
     ]
    },
    {
     "name": "stderr",
     "output_type": "stream",
     "text": [
      "c:\\Users\\kevor\\anaconda3\\Lib\\site-packages\\transformers\\models\\bert\\modeling_bert.py:439: UserWarning: 1Torch was not compiled with flash attention. (Triggered internally at C:\\cb\\pytorch_1000000000000\\work\\aten\\src\\ATen\\native\\transformers\\cuda\\sdp_utils.cpp:555.)\n",
      "  attn_output = torch.nn.functional.scaled_dot_product_attention(\n"
     ]
    }
   ],
   "source": [
    "print(pipe(\"I am very happy with the financial results of the company!\"))"
   ]
  },
  {
   "cell_type": "code",
   "execution_count": 6,
   "metadata": {},
   "outputs": [],
   "source": [
    "ticker = 'META'\n",
    "keyword = 'meta'\n",
    "\n",
    "rss_url = f'https://finance.yahoo.com/rss/headline?s={ticker}'\n",
    "\n",
    "feed = feedparser.parse(rss_url)"
   ]
  },
  {
   "cell_type": "code",
   "execution_count": 13,
   "metadata": {},
   "outputs": [
    {
     "name": "stdout",
     "output_type": "stream",
     "text": [
      "Meta Llama: Everything you need to know about the open generative AI model\n",
      "https://techcrunch.com/2024/09/08/meta-llama-everything-you-need-to-know-about-the-open-generative-ai-model/?.tsrc=rss\n",
      "Like every big tech company these days, Meta has its own flagship generative AI model, called Llama. Llama is somewhat unique among major models in that it's \"open,\" meaning developers can download and use it however they please (with certain limitations). That's in contrast to models like Anthropic's Claude, OpenAI's GPT-4o (which powers ChatGPT) and Google's Gemini, which can only be accessed via APIs. In the interest of giving developers choice, however, Meta has also partnered with vendors i\n",
      "neutral 0.8966228365898132\n",
      "----------------------------------------\n",
      "Meta Platforms, Inc. (META): Why Are Hedge Funds Bullish On This ESG Stock Now?\n",
      "https://finance.yahoo.com/news/meta-platforms-inc-meta-why-075651739.html?.tsrc=rss\n",
      "We recently compiled a list of the 10 Best ESG Stocks To Buy Now. In this article, we are going to take a look at where Meta Platforms, Inc. (NASDAQ:META) stands against the other ESG stocks. Defining ESG can sometimes be straightforward: it’s a finance and investing approach centered on managing risks related to environmental […]\n",
      "neutral 0.9405770897865295\n",
      "----------------------------------------\n",
      "Magnificent Seven Stocks: Nvidia Stock, Tesla Dive In Market Sell-Off\n",
      "https://finance.yahoo.com/m/4205eaa9-f620-3a0b-a81a-0e82c7c9fd0b/magnificent-seven-stocks%3A.html?.tsrc=rss\n",
      "Dubbed the Magnificent Seven stocks, Apple, Microsoft, Google parent Alphabet, Amazon.com, Nvidia, Meta Platforms and Tesla lived up to their name in 2023 with big gains. But the third quarter of 2024 showed their returns diverging and the whole group came under selling in recent weeks before rebounding.\n",
      "positive 0.7105217576026917\n",
      "----------------------------------------\n",
      "Jim Cramer Says ‘You’re Going To Hold Meta Platforms Inc. (META) Because It’s Not Expensive, Believe It Or Not’\n",
      "https://finance.yahoo.com/news/jim-cramer-says-going-hold-113053335.html?.tsrc=rss\n",
      "We recently compiled a list of the Jim Cramer’s 10 Stock Picks You Need to Know. In this article, we are going to take a look at where Meta Platforms Inc. (NASDAQ:META) stands against Jim Cramer’s other stock picks. In a recent episode of Mad Money, Jim Cramer views the current market as highly unpredictable and […]\n",
      "neutral 0.869899332523346\n",
      "----------------------------------------\n",
      "Insider Sale: Chief Legal Officer of Meta Platforms Inc (META) Sells Shares\n",
      "https://finance.yahoo.com/news/insider-sale-chief-legal-officer-052757662.html?.tsrc=rss\n",
      "Meta Platforms Inc, known for its social media and technology innovations, operates globally providing platforms such as Facebook, Instagram, and WhatsApp among others.  On the day of the sale, shares of Meta Platforms Inc were priced at $520, valuing the company with a market cap of approximately $1,308.09 billion.  The GF Value of the stock is $383.01, suggesting that Meta Platforms Inc is significantly overvalued with a price-to-GF-Value ratio of 1.36.\n",
      "neutral 0.5185715556144714\n",
      "----------------------------------------\n",
      "Meta Platforms, Inc. (META): Trending AI Stock on Latest Analyst Ratings and News\n",
      "https://finance.yahoo.com/news/meta-platforms-inc-meta-trending-220543155.html?.tsrc=rss\n",
      "We recently compiled a list of the 20 Trending AI Stocks on Latest Analyst Ratings and News. In this article, we are going to take a look at where Meta Platforms, Inc. (NASDAQ:META) stands against the other trending AI stocks. Artificial intelligence (AI) stocks have taken a beating over the past few days, merely weeks after […]\n",
      "negative 0.8594459295272827\n",
      "----------------------------------------\n",
      "Meta Platforms, Inc. (META): An AI Stock You Should Not Have Missed\n",
      "https://finance.yahoo.com/news/meta-platforms-inc-meta-ai-192530207.html?.tsrc=rss\n",
      "We recently compiled a list of the AI News You Should Not Have Missed. In this article, we are going to take a look at where Meta Platforms, Inc. (NASDAQ:META) stands against the other AI stocks. Artificial intelligence (AI) is the new buzzword that is attracting the attention of almost everyone on Wall Street. The sector, […]\n",
      "neutral 0.9197303056716919\n",
      "----------------------------------------\n",
      "Final score for META: 0.5709252783230373\n",
      "Overall sentiment: positive (0.5709252783230373)\n"
     ]
    }
   ],
   "source": [
    "total_score = 0\n",
    "num_articles = 0\n",
    "\n",
    "for i, entry in enumerate(feed.entries):\n",
    "    if keyword.lower() not in entry.summary.lower():\n",
    "        continue\n",
    "\n",
    "    print(entry.title)\n",
    "    print(entry.link)\n",
    "    print(entry.summary)\n",
    "    sentiment = pipe(entry.summary)[0]['label']\n",
    "    score = pipe(entry.summary)[0]['score']\n",
    "    print(sentiment, score)\n",
    "    print('-' * 40)\n",
    "\n",
    "    if sentiment == 'positive':\n",
    "        total_score += score\n",
    "        num_articles += 1\n",
    "    elif sentiment == 'negative':\n",
    "        total_score -= score\n",
    "        num_articles += 1\n",
    "    else:\n",
    "        total_score += score\n",
    "        num_articles +=1\n",
    "\n",
    "\n",
    "final_score = total_score / num_articles if num_articles > 0 else 0\n",
    "print(f'Final score for {ticker}: {final_score}')\n",
    "print(f'Overall sentiment: {\"positive\" if final_score > 0.15 else \"negative\" if final_score < -0.15 else \"neutral\"} ({final_score})')\n"
   ]
  }
 ],
 "metadata": {
  "kernelspec": {
   "display_name": "base",
   "language": "python",
   "name": "python3"
  },
  "language_info": {
   "codemirror_mode": {
    "name": "ipython",
    "version": 3
   },
   "file_extension": ".py",
   "mimetype": "text/x-python",
   "name": "python",
   "nbconvert_exporter": "python",
   "pygments_lexer": "ipython3",
   "version": "3.12.4"
  }
 },
 "nbformat": 4,
 "nbformat_minor": 2
}
