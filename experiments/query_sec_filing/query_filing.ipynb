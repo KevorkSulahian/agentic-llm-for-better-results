{
 "cells": [
  {
   "cell_type": "markdown",
   "metadata": {},
   "source": [
    "# llama-index - VectorStoreIndex and Query Engine\n",
    "\n",
    "The objective of this notebook is to demo a VectorStoreIndex and QueryEngine can be created from  "
   ]
  },
  {
   "cell_type": "code",
   "execution_count": 1,
   "metadata": {},
   "outputs": [
    {
     "data": {
      "text/html": [
       "<pre style=\"white-space:pre;overflow-x:auto;line-height:normal;font-family:Menlo,'DejaVu Sans Mono',consolas,'Courier New',monospace\"><span style=\"color: #7fbfbf; text-decoration-color: #7fbfbf\">[21:27:33] </span><span style=\"color: #000080; text-decoration-color: #000080\">INFO    </span> PyTorch version <span style=\"color: #008080; text-decoration-color: #008080; font-weight: bold\">2.5</span>.<span style=\"color: #008080; text-decoration-color: #008080; font-weight: bold\">0</span> available.                                                   <a href=\"file:///home/ivar/repos_ivar/agentic-llm-for-better-results/.venv/lib/python3.11/site-packages/datasets/config.py\" target=\"_blank\"><span style=\"color: #7f7f7f; text-decoration-color: #7f7f7f\">config.py</span></a><span style=\"color: #7f7f7f; text-decoration-color: #7f7f7f\">:</span><a href=\"file:///home/ivar/repos_ivar/agentic-llm-for-better-results/.venv/lib/python3.11/site-packages/datasets/config.py#54\" target=\"_blank\"><span style=\"color: #7f7f7f; text-decoration-color: #7f7f7f\">54</span></a>\n",
       "</pre>\n"
      ],
      "text/plain": [
       "\u001b[2;36m[21:27:33]\u001b[0m\u001b[2;36m \u001b[0m\u001b[34mINFO    \u001b[0m PyTorch version \u001b[1;36m2.5\u001b[0m.\u001b[1;36m0\u001b[0m available.                                                   \u001b]8;id=508620;file:///home/ivar/repos_ivar/agentic-llm-for-better-results/.venv/lib/python3.11/site-packages/datasets/config.py\u001b\\\u001b[2mconfig.py\u001b[0m\u001b]8;;\u001b\\\u001b[2m:\u001b[0m\u001b]8;id=108113;file:///home/ivar/repos_ivar/agentic-llm-for-better-results/.venv/lib/python3.11/site-packages/datasets/config.py#54\u001b\\\u001b[2m54\u001b[0m\u001b]8;;\u001b\\\n"
      ]
     },
     "metadata": {},
     "output_type": "display_data"
    },
    {
     "data": {
      "text/html": [
       "<pre style=\"white-space:pre;overflow-x:auto;line-height:normal;font-family:Menlo,'DejaVu Sans Mono',consolas,'Courier New',monospace\"><span style=\"color: #7fbfbf; text-decoration-color: #7fbfbf\">           </span><span style=\"color: #000080; text-decoration-color: #000080\">INFO    </span> Polars version <span style=\"color: #008080; text-decoration-color: #008080; font-weight: bold\">1.11</span>.<span style=\"color: #008080; text-decoration-color: #008080; font-weight: bold\">0</span> available.                                                   <a href=\"file:///home/ivar/repos_ivar/agentic-llm-for-better-results/.venv/lib/python3.11/site-packages/datasets/config.py\" target=\"_blank\"><span style=\"color: #7f7f7f; text-decoration-color: #7f7f7f\">config.py</span></a><span style=\"color: #7f7f7f; text-decoration-color: #7f7f7f\">:</span><a href=\"file:///home/ivar/repos_ivar/agentic-llm-for-better-results/.venv/lib/python3.11/site-packages/datasets/config.py#66\" target=\"_blank\"><span style=\"color: #7f7f7f; text-decoration-color: #7f7f7f\">66</span></a>\n",
       "</pre>\n"
      ],
      "text/plain": [
       "\u001b[2;36m          \u001b[0m\u001b[2;36m \u001b[0m\u001b[34mINFO    \u001b[0m Polars version \u001b[1;36m1.11\u001b[0m.\u001b[1;36m0\u001b[0m available.                                                   \u001b]8;id=520534;file:///home/ivar/repos_ivar/agentic-llm-for-better-results/.venv/lib/python3.11/site-packages/datasets/config.py\u001b\\\u001b[2mconfig.py\u001b[0m\u001b]8;;\u001b\\\u001b[2m:\u001b[0m\u001b]8;id=820763;file:///home/ivar/repos_ivar/agentic-llm-for-better-results/.venv/lib/python3.11/site-packages/datasets/config.py#66\u001b\\\u001b[2m66\u001b[0m\u001b]8;;\u001b\\\n"
      ]
     },
     "metadata": {},
     "output_type": "display_data"
    }
   ],
   "source": [
    "import logging\n",
    "import os\n",
    "import shutil\n",
    "import sys\n",
    "from pathlib import Path\n",
    "\n",
    "import html2text\n",
    "from constants import FILINGS_DIR, LLM_MAX_TOKENS, LLM_PROVIDER, LLM_TEMPERATURE\n",
    "from datamule import parse_textual_filing\n",
    "from datamule.filing_viewer.filing_viewer import json_to_html\n",
    "from dotenv import find_dotenv, load_dotenv\n",
    "from edgar import Company, set_identity\n",
    "from IPython.display import Markdown, display\n",
    "from llama_index.core import Document, Response, VectorStoreIndex\n",
    "from llama_index.embeddings.huggingface import HuggingFaceEmbedding\n",
    "from llama_index.llms.groq import Groq\n",
    "\n",
    "logging.basicConfig(stream=sys.stdout, level=logging.INFO)\n",
    "logging.getLogger().addHandler(logging.StreamHandler(stream=sys.stdout))"
   ]
  },
  {
   "cell_type": "code",
   "execution_count": 2,
   "metadata": {},
   "outputs": [
    {
     "name": "stdout",
     "output_type": "stream",
     "text": [
      "Identity of the Edgar REST client set to [John Doe john.doe@example.com]\n"
     ]
    }
   ],
   "source": [
    "%%capture\n",
    "load_dotenv(find_dotenv())\n",
    "set_identity(\"John Doe john.doe@example.com\")"
   ]
  },
  {
   "cell_type": "markdown",
   "metadata": {},
   "source": [
    "Reference pages in the llama-index docs:\n",
    "\n",
    "- https://docs.llamaindex.ai/en/stable/understanding/indexing/indexing/"
   ]
  },
  {
   "cell_type": "markdown",
   "metadata": {},
   "source": [
    "Embedding model and the LLM needs to be compatible and work well together. OpenAI GPT models work well with `text-embedding-ada-002` [Ref](https://docs.llamaindex.ai/en/stable/understanding/indexing/indexing/)"
   ]
  },
  {
   "cell_type": "code",
   "execution_count": 3,
   "metadata": {},
   "outputs": [],
   "source": [
    "TICKER = \"UBER\"\n",
    "FILING_TYPE = \"10-K\"\n",
    "# LLM_MODEL = LLM_MODELS[LLM_PROVIDER][0]\n",
    "LLM_MODEL = \"llama3-groq-70b-8192-tool-use-preview\"\n",
    "\n",
    "INDEX_STORAGE_FOLDER = \"filings_index\"\n",
    "EMBEDDING_MODEL_FOLDER = \"embedding_model\"\n",
    "HF_EMBEDDING_MODEL = \"BAAI/bge-small-en-v1.5\"\n",
    "PERSIST_VECTOR_STORE = True\n",
    "CLEAR_VECTOR_STORE = True"
   ]
  },
  {
   "cell_type": "code",
   "execution_count": 4,
   "metadata": {},
   "outputs": [
    {
     "data": {
      "text/markdown": [
       "Ticker: UBER\n",
       "Configuration:\n",
       "\n",
       "LLM Provider: groq LLM Model: llama3-groq-70b-8192-tool-use-preview\n",
       "\n",
       "Embedding model: BAAI/bge-small-en-v1.5"
      ],
      "text/plain": [
       "<IPython.core.display.Markdown object>"
      ]
     },
     "metadata": {},
     "output_type": "display_data"
    }
   ],
   "source": [
    "display(\n",
    "    Markdown(\n",
    "        f\"Ticker: {TICKER}\\n\"\n",
    "        f\"Configuration:\\n\\nLLM Provider: {LLM_PROVIDER} LLM Model: {LLM_MODEL}\\n\\n\"\n",
    "        f\"Embedding model: {HF_EMBEDDING_MODEL}\"\n",
    "    )\n",
    ")"
   ]
  },
  {
   "cell_type": "code",
   "execution_count": 5,
   "metadata": {},
   "outputs": [],
   "source": [
    "llm = Groq(\n",
    "    model=LLM_MODEL,\n",
    "    api_key=os.environ[\"GROQ_API_KEY\"],\n",
    "    temperature=LLM_TEMPERATURE,\n",
    "    max_tokens=LLM_MAX_TOKENS,\n",
    ")"
   ]
  },
  {
   "cell_type": "markdown",
   "metadata": {},
   "source": [
    "Using `edgartools` project to get the latest SEC filing."
   ]
  },
  {
   "cell_type": "code",
   "execution_count": 6,
   "metadata": {},
   "outputs": [],
   "source": [
    "filing = Company(TICKER).get_filings(form=FILING_TYPE).latest(1)"
   ]
  },
  {
   "cell_type": "code",
   "execution_count": 7,
   "metadata": {},
   "outputs": [],
   "source": [
    "# Using the datamule project to parse the filing into text\n",
    "json_content = parse_textual_filing(filing.document.url, return_type=\"json\")\n",
    "html_content = json_to_html(json_content)\n",
    "\n",
    "# Using html2text to convert to text\n",
    "h = html2text.HTML2Text()\n",
    "h.ignore_links = False\n",
    "h.ignore_tables = False\n",
    "\n",
    "text_content = h.handle(html_content)"
   ]
  },
  {
   "cell_type": "markdown",
   "metadata": {},
   "source": []
  },
  {
   "cell_type": "code",
   "execution_count": 8,
   "metadata": {},
   "outputs": [],
   "source": [
    "markdown_file = (Path(FILINGS_DIR) / TICKER / FILING_TYPE / filing.document.document).with_suffix(\n",
    "    \".md\"\n",
    ")\n",
    "with open(str(markdown_file), \"w\") as f:\n",
    "    f.write(text_content)"
   ]
  },
  {
   "cell_type": "code",
   "execution_count": 9,
   "metadata": {},
   "outputs": [
    {
     "data": {
      "text/markdown": [
       "The SEC filing is stored in Markdown to: filings/uber-20231231.md"
      ],
      "text/plain": [
       "<IPython.core.display.Markdown object>"
      ]
     },
     "metadata": {},
     "output_type": "display_data"
    }
   ],
   "source": [
    "display(Markdown(f\"The SEC filing is stored in Markdown to: {str(markdown_file)}\"))"
   ]
  },
  {
   "cell_type": "code",
   "execution_count": 10,
   "metadata": {},
   "outputs": [],
   "source": [
    "documents = [Document(text=text_content)]"
   ]
  },
  {
   "cell_type": "code",
   "execution_count": 11,
   "metadata": {},
   "outputs": [
    {
     "name": "stdout",
     "output_type": "stream",
     "text": [
      "Load pretrained SentenceTransformer: BAAI/bge-small-en-v1.5\n",
      "2 prompts are loaded, with the keys: ['query', 'text']\n"
     ]
    }
   ],
   "source": [
    "%%capture\n",
    "embed_model = HuggingFaceEmbedding(\n",
    "    model_name=HF_EMBEDDING_MODEL,\n",
    "    device=\"cpu\",\n",
    "    cache_folder=EMBEDDING_MODEL_FOLDER,\n",
    "    trust_remote_code=True,\n",
    ")"
   ]
  },
  {
   "cell_type": "markdown",
   "metadata": {},
   "source": [
    "A VectorStoreIndex is created from the text content. The document is split into llama-index Nodes, which is similar to text chunks but with more metadata attached and possibly relationships."
   ]
  },
  {
   "cell_type": "code",
   "execution_count": 12,
   "metadata": {},
   "outputs": [],
   "source": [
    "%%capture\n",
    "index = VectorStoreIndex.from_documents(documents, embed_model=embed_model)"
   ]
  },
  {
   "cell_type": "code",
   "execution_count": 13,
   "metadata": {},
   "outputs": [],
   "source": [
    "if CLEAR_VECTOR_STORE:\n",
    "    vector_store_folder = Path(INDEX_STORAGE_FOLDER)\n",
    "    if vector_store_folder.exists():\n",
    "        print(f\"Clearing vector store folder: {vector_store_folder}\")\n",
    "        shutil.rmtree(vector_store_folder)"
   ]
  },
  {
   "cell_type": "code",
   "execution_count": 14,
   "metadata": {},
   "outputs": [
    {
     "name": "stdout",
     "output_type": "stream",
     "text": [
      "Persisting vector store in filings_index\n"
     ]
    }
   ],
   "source": [
    "if PERSIST_VECTOR_STORE:\n",
    "    print(f\"Persisting vector store in {INDEX_STORAGE_FOLDER}\")\n",
    "    index.storage_context.persist(persist_dir=INDEX_STORAGE_FOLDER)"
   ]
  },
  {
   "cell_type": "code",
   "execution_count": 15,
   "metadata": {},
   "outputs": [
    {
     "data": {
      "text/plain": [
       "'The index is constructed with 149 nodes'"
      ]
     },
     "metadata": {},
     "output_type": "display_data"
    }
   ],
   "source": [
    "display(f\"The index is constructed with {len(index.index_struct.nodes_dict.keys())} nodes\")"
   ]
  },
  {
   "cell_type": "markdown",
   "metadata": {},
   "source": [
    "The default similarity top K for the retriever is 2 in llama-index. This can be increased to 5 for example.\n",
    "This parameters chooses how many nodes will be sent to the LLM for context to the query. For example if the parameter is 2 then the retriever / embedding model will find 2 similar nodes that has a likelihood of being relevant to the query that is being sent to the LLM."
   ]
  },
  {
   "cell_type": "code",
   "execution_count": 16,
   "metadata": {},
   "outputs": [],
   "source": [
    "query_engine = index.as_query_engine(llm=llm, similarity_top_k=3)"
   ]
  },
  {
   "cell_type": "code",
   "execution_count": 17,
   "metadata": {},
   "outputs": [],
   "source": [
    "query = f\"Extract key insights for {TICKER} from their latest 10-K SEC filing\""
   ]
  },
  {
   "cell_type": "code",
   "execution_count": 18,
   "metadata": {},
   "outputs": [],
   "source": [
    "%%capture\n",
    "response: Response = query_engine.query(query)"
   ]
  },
  {
   "cell_type": "markdown",
   "metadata": {},
   "source": [
    "The Response object has the attributes response, source_nodes and metadata"
   ]
  },
  {
   "cell_type": "markdown",
   "metadata": {},
   "source": [
    "The LLM generated this response:"
   ]
  },
  {
   "cell_type": "code",
   "execution_count": 19,
   "metadata": {},
   "outputs": [
    {
     "data": {
      "text/markdown": [
       "1. Uber Technologies, Inc. is a technology platform that uses a massive network, leading technology, operational excellence, and product expertise to power movement from point A to point B.\n",
       "\n",
       "2. Uber's business is divided into three operating and reportable segments: Mobility, Delivery, and Freight. Each segment addresses large, fragmented markets.\n",
       "\n",
       "3. Mobility connects consumers with a wide range of transportation modalities, such as ridesharing, carsharing, micromobility, rentals, public transit, taxis, and more.\n",
       "\n",
       "4. Delivery allows consumers to search for and discover local commerce, order a meal or other items, and either pick-up at the restaurant or have it delivered. This segment also includes Grocery & Retail categories.\n",
       "\n",
       "5. Freight is revolutionizing the logistics industry by connecting shippers with carriers in the freight industry by providing carriers with the ability to book a shipment, transportation management, and other logistics services.\n",
       "\n",
       "6. The classification of Drivers is currently being challenged in courts, by legislators and by government agencies in the United States and abroad. If Drivers were classified as employees, workers, or quasi-employees, Uber's business, financial condition, operating results, or prospects could be negatively impacted.\n",
       "\n",
       "7. Uber Technologies, Inc. is involved in numerous legal proceedings globally, including putative class and collective class action lawsuits, demands for arbitration, charges and claims before administrative agencies, and investigations or audits by labor, social security, and tax authorities that claim that Drivers should be treated as employees (or as workers or quasi-employees where those statuses exist), rather than as independent contractors.\n",
       "\n",
       "8. The company has incurred and expects to incur additional expenses, including expenses associated with a guaranteed minimum earnings floor for Drivers, insurance for injury protection, and subsidies for health care to comply with Proposition 22.\n",
       "\n",
       "9. Uber Technologies, Inc. is developing technologies designed to provide new solutions to solve everyday problems.\n",
       "\n",
       "10. The company's business, financial condition, operating results, or prospects could be negatively impacted by risks and uncertainties not currently known to them or that they currently do not believe are material."
      ],
      "text/plain": [
       "<IPython.core.display.Markdown object>"
      ]
     },
     "metadata": {},
     "output_type": "display_data"
    }
   ],
   "source": [
    "display(Markdown(response.response))"
   ]
  },
  {
   "cell_type": "markdown",
   "metadata": {},
   "source": [
    "The following SourceNodes were used by the LLM to generate the answer:"
   ]
  },
  {
   "cell_type": "code",
   "execution_count": 20,
   "metadata": {},
   "outputs": [
    {
     "data": {
      "text/markdown": [
       "> Source (Doc id: d803ba0e-c00d-4bb9-b30f-96c6f781850b): ### ITEM 6. [RESERVED]\n",
       "\n",
       "### ITEM 7. MANAGEMENT’S DISCUSSION AND ANALYSIS OF FINANCIAL CONDITION AND\n",
       "RESULTS OF OPERATIONS\n",
       "\n",
       "### The following discussion and analysis of our financial condition and\n",
       "results of operations should be read in conjunction with our consolidated\n",
       "financial statements and the related notes included in Part II, Item 8,\n",
       "“Financial Statements and Supplementary Data,” of this Annual Report on Form\n",
       "10-K\n",
       "\n",
       ". We have elected to omit discussion on the earliest of the three years\n",
       "covered by the consolidated financial statements presented. Refer to Item 7.\n",
       "Management's Discussion and Analysis of Financial Condition and Results of\n",
       "Operations located in our Annual Report on Form 10-K for the year ended\n",
       "December 31, 2022, filed on February 21, 2023, for reference to discussion of\n",
       "the fiscal year ended December 31, 2021, the earliest of the three fiscal\n",
       "years presented.\n",
       "\n",
       "### In addition to our historical consolidated financial information, the\n",
       "following discussion contains forward-looking statements that reflect our\n",
       "plans, estimates, and beliefs. Our actual results could differ materially from\n",
       "those discussed in the forward-looking statements. You should review the\n",
       "sections titled “Special Note Regarding Forward-Looking Statements” for a\n",
       "discussion of forward-looking statements and in Part I, Item 1A, “Risk\n",
       "Factors”, for a discussion of factors that could cause actual results to\n",
       "differ materially from the results described in or implied by the forward-\n",
       "looking statements contained in the following discussion and analysis and\n",
       "elsewhere in this Annual Report on Form 10-K.\n",
       "\n",
       "### Overview\n",
       "\n",
       "We are a technology platform that uses a massive network, leading technology,\n",
       "operational excellence, and product expertise to power movement from point A\n",
       "to point B. We develop and operate proprietary technology applications\n",
       "supporting a variety of offerings on our platform. We connect consumers with\n",
       "providers of ride services, merchants as well as delivery service providers...\n",
       "\n",
       "> Source (Doc id: db7564ec-f965-4fb7-a924-53321e616251): The information in this\n",
       "report is not a part of this Form 10-K.\n",
       "\n",
       "### Additional Information\n",
       "\n",
       "We were founded in 2009 and incorporated as Ubercab, Inc., a Delaware\n",
       "corporation, in July 2010. In February 2011, we changed our name to Uber\n",
       "Technologies, Inc. Our principal executive offices are located at 1725 3rd\n",
       "Street, San Francisco, California 94158, and our telephone number is (415)\n",
       "612-8582. Our website address is www.uber.com and our investor relations\n",
       "website is located at https://investor.uber.com. The information posted on our\n",
       "website is not incorporated into this Annual Report on Form 10-K. The U.S.\n",
       "Securities and Exchange Commission (“SEC”) maintains an Internet site that\n",
       "contains reports, proxy and information statements, and other information\n",
       "regarding issuers that file electronically with the SEC at www.sec.gov. Our\n",
       "Annual Report on Form 10-K, Quarterly Reports on Form 10-Q, Current Reports on\n",
       "Form 8-K and amendments to reports filed or furnished pursuant to Sections\n",
       "13(a) and 15(d) of the Securities Exchange Act of 1934, as amended, (the\n",
       "“Exchange Act”) are also available free of charge on our investor relations\n",
       "website as soon as reasonably practicable after we electronically file such\n",
       "material with, or furnish it to, the SEC. We webcast our earnings calls and\n",
       "certain events we participate in or host with members of the investment\n",
       "community on our investor relations website. Additionally, we provide\n",
       "notifications of news or announcements regarding our financial performance,\n",
       "including SEC filings, investor events, press and earnings releases, as part\n",
       "of our investor relations website. The contents of these websites are not\n",
       "intended to be incorporated by reference into this report or in any other\n",
       "report or document we file.\n",
       "\n",
       "### ITEM 1A. RISK FACTORS\n",
       "\n",
       "### Certain factors may have a material adverse effect on our business,\n",
       "financial condition, and results of operations. You should carefully consider\n",
       "the following risks, together with all of the other inf...\n",
       "\n",
       "> Source (Doc id: 760677c0-0f2f-4bc4-99a0-d2ab4e42a41b): ## Sections\n",
       "\n",
       "# Filing Viewer\n",
       "\n",
       "CIK: 1543151 | Accession Number: 000154315124000012\n",
       "\n",
       "### PART I\n",
       "\n",
       "### ITEM 1. BUSINESS\n",
       "\n",
       "### Overview\n",
       "\n",
       "Uber Technologies, Inc. (“Uber,” “we,” “our,” or “us”) is a technology\n",
       "platform that uses a massive network, leading technology, operational\n",
       "excellence and product expertise to power movement from point A to point B. We\n",
       "develop and operate proprietary technology applications supporting a variety\n",
       "of offerings on our platform (“platform(s)” or “Platform(s)”). We connect\n",
       "consumers (“Rider(s)”) with independent providers of ride services (“Mobility\n",
       "Driver(s)”) for ridesharing services, and connect Riders and other consumers\n",
       "(“Eater(s)”) with restaurants, grocers and other stores (collectively,\n",
       "“Merchants”) with delivery service providers (“Couriers”) for meal\n",
       "preparation, grocery and other delivery services. Riders and Eaters are\n",
       "collectively referred to as “end-user(s)” or “consumer(s).” Mobility Drivers\n",
       "and Couriers are collectively referred to as “Driver(s).” We also connect\n",
       "consumers with public transportation networks. We use this same network,\n",
       "technology, operational excellence and product expertise to connect shippers\n",
       "(“Shipper(s)”) with carriers (“Carrier(s)”) in the freight industry by\n",
       "providing Carriers with the ability to book a shipment, transportation\n",
       "management and other logistics services. Uber is also developing technologies\n",
       "designed to provide new solutions to solve everyday problems. Our technology\n",
       "is available in approximately 70 countries around the world, principally in\n",
       "the United States (“U.S.”) and Canada, Latin America, Europe (excluding\n",
       "Russia), the Middle East, Africa, and Asia (excluding China and Southeast\n",
       "Asia).\n",
       "\n",
       "### Our Segments\n",
       "\n",
       "As of December 31, 2023, we had three operating and reportable segments:\n",
       "Mobility, Delivery and Freight. Mobility, Delivery and Freight platform\n",
       "offerings each address large, fragmented markets.\n",
       "\n",
       "### Mobility\n",
       "\n",
       "Our Mobility offering connects consumers with a wide range of transportati..."
      ],
      "text/plain": [
       "<IPython.core.display.Markdown object>"
      ]
     },
     "metadata": {},
     "output_type": "display_data"
    }
   ],
   "source": [
    "display(Markdown(response.get_formatted_sources(length=2000)))"
   ]
  }
 ],
 "metadata": {
  "kernelspec": {
   "display_name": ".venv",
   "language": "python",
   "name": "python3"
  },
  "language_info": {
   "codemirror_mode": {
    "name": "ipython",
    "version": 3
   },
   "file_extension": ".py",
   "mimetype": "text/x-python",
   "name": "python",
   "nbconvert_exporter": "python",
   "pygments_lexer": "ipython3",
   "version": "3.11.9"
  }
 },
 "nbformat": 4,
 "nbformat_minor": 2
}
