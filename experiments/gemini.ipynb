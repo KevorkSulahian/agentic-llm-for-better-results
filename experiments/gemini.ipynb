{
 "cells": [
  {
   "cell_type": "markdown",
   "metadata": {},
   "source": [
    "# Gemini models"
   ]
  },
  {
   "cell_type": "code",
   "execution_count": 1,
   "metadata": {},
   "outputs": [
    {
     "data": {
      "text/plain": [
       "True"
      ]
     },
     "execution_count": 1,
     "metadata": {},
     "output_type": "execute_result"
    }
   ],
   "source": [
    "import os\n",
    "\n",
    "import google.generativeai as genai\n",
    "import litellm\n",
    "import pandas as pd\n",
    "import requests\n",
    "from dotenv import find_dotenv, load_dotenv\n",
    "from IPython.display import Markdown, display\n",
    "\n",
    "genai.configure(api_key=os.getenv(\"GOOGLE_API_KEY\"))\n",
    "\n",
    "load_dotenv(find_dotenv())"
   ]
  },
  {
   "cell_type": "code",
   "execution_count": 2,
   "metadata": {},
   "outputs": [],
   "source": [
    "if os.getenv(\"GEMINI_API_KEY\") is None:\n",
    "    print(\"Please set the GEMINI_API_KEY environment variable\")\n",
    "    exit(1)"
   ]
  },
  {
   "cell_type": "markdown",
   "metadata": {},
   "source": [
    "This notebook aims to demonstrate how Gemini models can be used with standard API request,  \n",
    "[generative-ai-python SDK](https://github.com/google-gemini/generative-ai-python) and LiteLLM.  \n",
    "A Gemini API KEY is needed to be set as an environment variable.\n",
    "\n",
    "Examples of Gemini API:\n",
    "\n",
    "- https://docs.litellm.ai/docs/providers/gemini\n",
    "- https://aistudio.google.com/"
   ]
  },
  {
   "cell_type": "code",
   "execution_count": 3,
   "metadata": {},
   "outputs": [],
   "source": [
    "GEMINI_MODELS = [\n",
    "    \"gemini/gemini-1.5-flash\",\n",
    "]"
   ]
  },
  {
   "cell_type": "code",
   "execution_count": 4,
   "metadata": {},
   "outputs": [],
   "source": [
    "prompt = \"Explain the different sectors of interest on the NASDAQ stock exchange\"\n",
    "MODEL = \"gemini/gemini-1.5-flash\""
   ]
  },
  {
   "cell_type": "code",
   "execution_count": 5,
   "metadata": {},
   "outputs": [
    {
     "name": "stdout",
     "output_type": "stream",
     "text": [
      "Models that support generateContent:\n",
      "models/gemini-1.0-pro-latest\n",
      "models/gemini-1.0-pro\n",
      "models/gemini-pro\n",
      "models/gemini-1.0-pro-001\n",
      "models/gemini-1.0-pro-vision-latest\n",
      "models/gemini-pro-vision\n",
      "models/gemini-1.5-pro-latest\n",
      "models/gemini-1.5-pro-001\n",
      "models/gemini-1.5-pro-002\n",
      "models/gemini-1.5-pro\n",
      "models/gemini-1.5-pro-exp-0801\n",
      "models/gemini-1.5-pro-exp-0827\n",
      "models/gemini-1.5-flash-latest\n",
      "models/gemini-1.5-flash-001\n",
      "models/gemini-1.5-flash-001-tuning\n",
      "models/gemini-1.5-flash\n",
      "models/gemini-1.5-flash-exp-0827\n",
      "models/gemini-1.5-flash-8b-exp-0827\n",
      "models/gemini-1.5-flash-8b-exp-0924\n",
      "models/gemini-1.5-flash-002\n"
     ]
    }
   ],
   "source": [
    "models = genai.list_models()\n",
    "\n",
    "print(\"Models that support generateContent:\")\n",
    "for model in models:\n",
    "    if \"generateContent\" in model.supported_generation_methods:\n",
    "        print(model.name)"
   ]
  },
  {
   "cell_type": "markdown",
   "metadata": {},
   "source": [
    "## requests package"
   ]
  },
  {
   "cell_type": "code",
   "execution_count": 6,
   "metadata": {},
   "outputs": [
    {
     "data": {
      "text/markdown": [
       "The NASDAQ stock exchange is known for its focus on technology companies, but it's not limited to that. Here's a breakdown of the major sectors represented on NASDAQ, highlighting their unique characteristics:\n",
       "\n",
       "**1. Technology (Technology, Communication Services):**\n",
       "\n",
       "* **Dominance:** This is the most prominent sector on NASDAQ, accounting for a significant portion of its listed companies. \n",
       "* **Sub-sectors:**  Includes software, hardware, semiconductors, internet services, telecommunications, and more. \n",
       "* **Key features:** Rapid innovation, high growth potential, and significant volatility. \n",
       "* **Examples:** Apple, Microsoft, Google, Amazon, Meta (Facebook), Tesla, Nvidia, Qualcomm.\n",
       "\n",
       "**2. Healthcare:**\n",
       "\n",
       "* **Growing sector:** This sector is expanding on NASDAQ, driven by technological advancements in medicine and the aging global population.\n",
       "* **Sub-sectors:** Includes pharmaceuticals, biotechnology, medical devices, healthcare services, and more.\n",
       "* **Key features:** Strong growth potential, regulatory scrutiny, and potential for high returns.\n",
       "* **Examples:** Gilead Sciences, Moderna, Intuitive Surgical, UnitedHealth Group, Abbott Laboratories.\n",
       "\n",
       "**3. Consumer Discretionary:**\n",
       "\n",
       "* **Diverse sector:** This sector includes companies selling goods and services that consumers purchase when they have discretionary income.\n",
       "* **Sub-sectors:** Includes retail, restaurants, automobiles, apparel, and more.\n",
       "* **Key features:** Sensitive to economic conditions, cyclical growth patterns, and strong brand loyalty.\n",
       "* **Examples:** Nike, Amazon (retail), Starbucks, Tesla (vehicles), Home Depot.\n",
       "\n",
       "**4. Consumer Staples:**\n",
       "\n",
       "* **Essential goods:** This sector focuses on companies that provide essential goods and services, like food, beverages, and personal care products.\n",
       "* **Sub-sectors:** Includes food and beverage, household products, personal care products, and more.\n",
       "* **Key features:** More stable earnings compared to discretionary goods, less sensitive to economic fluctuations.\n",
       "* **Examples:** Coca-Cola, PepsiCo, Procter & Gamble, Walmart (grocery), Costco.\n",
       "\n",
       "**5. Industrials:**\n",
       "\n",
       "* **Diverse sector:** This sector includes companies involved in manufacturing, construction, transportation, and other industries.\n",
       "* **Sub-sectors:** Includes aerospace, defense, machinery, chemicals, and more.\n",
       "* **Key features:** Tied to economic growth, cyclical patterns, and potential for significant investment.\n",
       "* **Examples:** Boeing, Lockheed Martin, Caterpillar, 3M, Honeywell.\n",
       "\n",
       "**6. Financials:**\n",
       "\n",
       "* **Broad sector:** This sector includes companies involved in banking, insurance, asset management, and more.\n",
       "* **Sub-sectors:** Includes banks, insurance companies, investment firms, and financial technology.\n",
       "* **Key features:** Highly regulated, impacted by interest rates, and potential for high returns.\n",
       "* **Examples:** Berkshire Hathaway, JPMorgan Chase, Bank of America, Visa, Mastercard.\n",
       "\n",
       "**7. Energy:**\n",
       "\n",
       "* **Resource-based sector:** This sector includes companies involved in oil and gas production, refining, and distribution.\n",
       "* **Key features:** Fluctuating prices, environmental concerns, and geopolitical factors play a significant role.\n",
       "* **Examples:** ExxonMobil, Chevron, ConocoPhillips, Schlumberger, Baker Hughes.\n",
       "\n",
       "**8. Materials:**\n",
       "\n",
       "* **Raw materials:** This sector includes companies involved in mining, quarrying, and other raw material extraction and processing.\n",
       "* **Key features:** Commodity price volatility, environmental concerns, and cyclical patterns.\n",
       "* **Examples:** Freeport-McMoRan, Newmont Corporation, Nucor Corporation, Linde, Air Products.\n",
       "\n",
       "**Other Important Sectors:**\n",
       "\n",
       "* **Real Estate:** Includes REITs (Real Estate Investment Trusts), companies that invest in real estate and pay dividends to investors.\n",
       "* **Utilities:** Includes companies that provide essential services like electricity, gas, and water.\n",
       "\n",
       "**Understanding the Sectors:**\n",
       "\n",
       "When investing in NASDAQ, it's crucial to understand the sector dynamics and how they are influenced by economic conditions, regulatory changes, and global events. Researching the specific companies within each sector can provide valuable insights into their potential performance. \n"
      ],
      "text/plain": [
       "<IPython.core.display.Markdown object>"
      ]
     },
     "metadata": {},
     "output_type": "display_data"
    }
   ],
   "source": [
    "def query_gemini_model(prompt: str, model: str) -> dict:\n",
    "    url = f\"https://generativelanguage.googleapis.com/v1beta/models/{model}-latest:generateContent\"\n",
    "    headers = {\"Content-Type\": \"application/json\"}\n",
    "\n",
    "    payload = {\"contents\": [{\"parts\": [{\"text\": prompt}]}]}\n",
    "\n",
    "    response = requests.post(\n",
    "        url, headers=headers, json=payload, params={\"key\": os.getenv(\"GEMINI_API_KEY\")}\n",
    "    )\n",
    "\n",
    "    if response.status_code == 200:\n",
    "        return response.json()\n",
    "    else:\n",
    "        raise Exception(f\"Error: {response.status_code}, {response.text}\")\n",
    "\n",
    "\n",
    "try:\n",
    "    result = query_gemini_model(prompt, model=MODEL.split(\"/\")[-1])\n",
    "    display(Markdown(result.get(\"candidates\")[0].get(\"content\").get(\"parts\")[0].get(\"text\")))\n",
    "\n",
    "except Exception as e:\n",
    "    print(e)"
   ]
  },
  {
   "cell_type": "code",
   "execution_count": 7,
   "metadata": {},
   "outputs": [
    {
     "name": "stdout",
     "output_type": "stream",
     "text": [
      "promptTokenCount         12\n",
      "candidatesTokenCount    855\n",
      "totalTokenCount         867\n",
      "dtype: int64\n"
     ]
    }
   ],
   "source": [
    "print(pd.Series(result.get(\"usageMetadata\")))"
   ]
  },
  {
   "cell_type": "markdown",
   "metadata": {},
   "source": [
    "## google-generativeai package"
   ]
  },
  {
   "cell_type": "code",
   "execution_count": 8,
   "metadata": {},
   "outputs": [
    {
     "data": {
      "text/markdown": [
       "The NASDAQ stock exchange is a global marketplace where stocks from various companies are traded. While it's not officially divided into sectors, the companies listed on NASDAQ represent a wide range of industries and can be categorized into several key sectors:\n",
       "\n",
       "**Technology:** \n",
       "* This is NASDAQ's most prominent sector, encompassing companies involved in software, hardware, semiconductors, e-commerce, internet services, and more. Some notable examples include Microsoft (MSFT), Apple (AAPL), Alphabet (GOOGL), and Amazon (AMZN).\n",
       "\n",
       "**Biotechnology and Healthcare:**\n",
       "* This sector includes companies developing and marketing pharmaceutical products, medical devices, biotechnology research, and healthcare services. Examples include Gilead Sciences (GILD), Amgen (AMGN), and Regeneron Pharmaceuticals (REGN).\n",
       "\n",
       "**Consumer Discretionary:**\n",
       "* This sector covers companies involved in non-essential goods and services, such as automobiles, apparel, restaurants, travel, and leisure. Examples include Tesla (TSLA), Nike (NKE), and Starbucks (SBUX).\n",
       "\n",
       "**Consumer Staples:**\n",
       "* This sector focuses on companies providing essential goods and services, including food, beverages, personal care products, and household goods. Examples include Procter & Gamble (PG), PepsiCo (PEP), and Coca-Cola (KO).\n",
       "\n",
       "**Industrials:**\n",
       "* This sector includes companies involved in manufacturing, construction, transportation, and industrial machinery. Examples include Boeing (BA), Caterpillar (CAT), and Honeywell (HON).\n",
       "\n",
       "**Financials:**\n",
       "* This sector encompasses companies offering financial services, including banking, insurance, and investment management. Examples include Visa (V), Mastercard (MA), and JPMorgan Chase (JPM).\n",
       "\n",
       "**Energy:**\n",
       "* This sector includes companies involved in oil and gas exploration, production, and refining. Examples include ExxonMobil (XOM), Chevron (CVX), and ConocoPhillips (COP).\n",
       "\n",
       "**Materials:**\n",
       "* This sector includes companies involved in mining, chemicals, and other raw materials. Examples include Dow Inc. (DOW), DuPont de Nemours (DD), and Linde plc (LIN).\n",
       "\n",
       "**Real Estate:**\n",
       "* This sector includes companies involved in real estate development, property management, and REITs (Real Estate Investment Trusts). Examples include Simon Property Group (SPG), Prologis (PLD), and American Tower Corporation (AMT).\n",
       "\n",
       "**Utilities:**\n",
       "* This sector includes companies providing essential services like electricity, gas, and water. Examples include NextEra Energy (NEE), Duke Energy (DUK), and Southern Company (SO).\n",
       "\n",
       "**Communication Services:**\n",
       "* This sector encompasses companies involved in telecommunications, media, and entertainment. Examples include AT&T (T), Verizon (VZ), and Comcast (CMCSA).\n",
       "\n",
       "It's important to note that many companies may overlap these sectors. For example, a technology company might also have a significant presence in healthcare through its software or medical device development.  Furthermore, companies can shift sectors over time as their focus changes or new technologies emerge. \n",
       "\n",
       "By understanding the various sectors represented on the NASDAQ, investors can gain valuable insights into market trends and make informed investment decisions."
      ],
      "text/plain": [
       "<IPython.core.display.Markdown object>"
      ]
     },
     "metadata": {},
     "output_type": "display_data"
    }
   ],
   "source": [
    "model = genai.GenerativeModel(MODEL.split(\"/\")[-1])\n",
    "response = model.generate_content(prompt)\n",
    "display(Markdown(response.text))"
   ]
  },
  {
   "cell_type": "markdown",
   "metadata": {},
   "source": [
    "## LiteLLM"
   ]
  },
  {
   "cell_type": "code",
   "execution_count": 9,
   "metadata": {},
   "outputs": [],
   "source": [
    "def chat(prompt: str) -> str:\n",
    "    \"\"\"\n",
    "    Generate a response from the model based on a given prompt.\n",
    "    \"\"\"\n",
    "    response = litellm.completion(\n",
    "        model=MODEL,\n",
    "        messages=[{\"role\": \"user\", \"content\": prompt}],\n",
    "        api_key=os.getenv(\"GEMINI_API_KEY\"),\n",
    "    )\n",
    "    if response and response.choices:\n",
    "        answer = response.choices[0].message.content\n",
    "        return answer\n",
    "    else:\n",
    "        return \"No response from the model\""
   ]
  },
  {
   "cell_type": "code",
   "execution_count": 10,
   "metadata": {},
   "outputs": [],
   "source": [
    "answer = chat(prompt)"
   ]
  },
  {
   "cell_type": "code",
   "execution_count": 11,
   "metadata": {},
   "outputs": [
    {
     "data": {
      "text/markdown": [
       "The NASDAQ Stock Exchange is known for its focus on technology and innovation, but it encompasses a broad range of sectors. Here's a breakdown of some key sectors:\n",
       "\n",
       "**1. Technology:**\n",
       "\n",
       "* **Software:** This includes companies developing and selling software applications across various industries, such as enterprise software, cybersecurity, and cloud computing.\n",
       "* **Hardware:** Companies involved in manufacturing electronic devices, like computers, smartphones, and servers.\n",
       "* **Semiconductors:** Companies designing and manufacturing semiconductor chips, crucial components for electronic devices.\n",
       "* **Internet:** Companies operating online platforms, e-commerce businesses, social media, and search engines.\n",
       "* **Telecommunications:** Companies providing telecommunications services, including mobile phone carriers, internet service providers, and data centers.\n",
       "\n",
       "**2. Healthcare:**\n",
       "\n",
       "* **Biotechnology:** Companies involved in the development and commercialization of new drugs, therapies, and medical devices.\n",
       "* **Pharmaceuticals:** Companies producing and selling prescription drugs and over-the-counter medications.\n",
       "* **Healthcare Services:** Companies providing medical services, such as hospitals, clinics, and diagnostic labs.\n",
       "* **Medical Devices:** Companies designing and manufacturing medical equipment and instruments.\n",
       "\n",
       "**3. Consumer Discretionary:**\n",
       "\n",
       "* **Retail:** Companies selling goods and services directly to consumers, including clothing, electronics, and furniture.\n",
       "* **Media and Entertainment:** Companies involved in the production, distribution, and consumption of media content, such as movies, music, and television.\n",
       "* **Travel and Leisure:** Companies providing services related to travel and leisure, including airlines, hotels, and theme parks.\n",
       "* **Automotive:** Companies involved in the design, manufacturing, and sale of automobiles, including electric vehicles.\n",
       "\n",
       "**4. Consumer Staples:**\n",
       "\n",
       "* **Food and Beverages:** Companies producing and selling food and beverages, including grocery stores, restaurants, and beverage manufacturers.\n",
       "* **Personal Products:** Companies producing and selling personal care products, such as toiletries, cosmetics, and household cleaning supplies.\n",
       "\n",
       "**5. Industrials:**\n",
       "\n",
       "* **Manufacturing:** Companies producing goods, such as industrial machinery, construction materials, and chemicals.\n",
       "* **Transportation:** Companies providing transportation services, including airlines, railroads, and trucking companies.\n",
       "* **Construction:** Companies involved in the construction and engineering of buildings, infrastructure projects, and other structures.\n",
       "\n",
       "**6. Financials:**\n",
       "\n",
       "* **Banks:** Companies providing financial services, such as banking, lending, and investment management.\n",
       "* **Insurance:** Companies providing insurance services, such as life insurance, health insurance, and property insurance.\n",
       "* **Real Estate:** Companies involved in the buying, selling, and leasing of real estate properties.\n",
       "\n",
       "**7. Energy:**\n",
       "\n",
       "* **Oil and Gas:** Companies involved in the exploration, production, and refining of oil and natural gas.\n",
       "* **Renewable Energy:** Companies developing and producing renewable energy sources, such as solar and wind power.\n",
       "\n",
       "**8. Utilities:**\n",
       "\n",
       "* **Electric Utilities:** Companies generating and distributing electricity.\n",
       "* **Gas Utilities:** Companies providing natural gas distribution services.\n",
       "* **Water Utilities:** Companies providing water supply and wastewater treatment services.\n",
       "\n",
       "It's important to note that these sectors are not mutually exclusive, and many companies operate across multiple sectors. For example, a technology company might also have a healthcare division. The NASDAQ, like any stock exchange, is constantly evolving, and new sectors and industries are always emerging. \n"
      ],
      "text/plain": [
       "<IPython.core.display.Markdown object>"
      ]
     },
     "metadata": {},
     "output_type": "display_data"
    }
   ],
   "source": [
    "display(Markdown(answer))"
   ]
  }
 ],
 "metadata": {
  "kernelspec": {
   "display_name": ".venv",
   "language": "python",
   "name": "python3"
  },
  "language_info": {
   "codemirror_mode": {
    "name": "ipython",
    "version": 3
   },
   "file_extension": ".py",
   "mimetype": "text/x-python",
   "name": "python",
   "nbconvert_exporter": "python",
   "pygments_lexer": "ipython3",
   "version": "3.11.9"
  }
 },
 "nbformat": 4,
 "nbformat_minor": 2
}
