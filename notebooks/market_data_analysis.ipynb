{
 "cells": [
  {
   "cell_type": "markdown",
   "metadata": {},
   "source": [
    "# Market Data Analysis by FinMAS\n",
    "\n",
    "This notebook can be used to run an analysis by Market Data crew instead of using the UI / panel app."
   ]
  },
  {
   "cell_type": "code",
   "execution_count": null,
   "metadata": {},
   "outputs": [],
   "source": [
    "# Convenience function to change the working directory to the root of the project if necessary\n",
    "from pathlib import Path\n",
    "import os\n",
    "\n",
    "if not Path(\"finmas\").exists():\n",
    "    os.chdir(\"..\")\n",
    "print(f\"Current working directory: {Path.cwd()}\")"
   ]
  },
  {
   "cell_type": "code",
   "execution_count": null,
   "metadata": {},
   "outputs": [],
   "source": [
    "%%capture\n",
    "import time\n",
    "\n",
    "from IPython.display import Markdown, display\n",
    "\n",
    "from finmas.crews import MarketDataCrew\n",
    "from finmas.crews.utils import CrewRunMetrics, save_crew_output, get_yaml_config_as_markdown\n",
    "from finmas.utils.common import format_time_spent"
   ]
  },
  {
   "cell_type": "markdown",
   "metadata": {},
   "source": [
    "To be able to run this notebook make sure the necessary API_KEY for the LLM is set in the `.env` file\n",
    "or set in the environment variables manually\n",
    "\n",
    "| provider | API_KEY |\n",
    "| --- | --- |\n",
    "| groq | GROQ_API_KEY |\n",
    "| openai | OPENAI_API_KEY |"
   ]
  },
  {
   "cell_type": "markdown",
   "metadata": {},
   "source": [
    "## Configuration\n",
    "\n",
    "List of Groq models: https://console.groq.com/settings/limits"
   ]
  },
  {
   "cell_type": "code",
   "execution_count": null,
   "metadata": {},
   "outputs": [],
   "source": [
    "TICKER = \"META\"\n",
    "\n",
    "# LLM_PROVIDER = \"groq\"\n",
    "# LLM_MODEL = \"llama3-8b-8192\"\n",
    "\n",
    "LLM_PROVIDER = \"openai\"\n",
    "LLM_MODEL = \"gpt-4o\"\n",
    "# LLM_MODEL = \"gpt-4o-mini\"\n",
    "\n",
    "# LLM configuration\n",
    "LLM_TEMPERATURE = 0.0\n",
    "LLM_MAX_TOKENS = 1024\n",
    "\n",
    "CREW_NAME = \"market_data\""
   ]
  },
  {
   "cell_type": "markdown",
   "metadata": {},
   "source": [
    "## Crew Configuration"
   ]
  },
  {
   "cell_type": "code",
   "execution_count": null,
   "metadata": {},
   "outputs": [],
   "source": [
    "config_path = Path.cwd() / \"finmas\" / \"crews\" / CREW_NAME / \"config\""
   ]
  },
  {
   "cell_type": "markdown",
   "metadata": {},
   "source": [
    "### Agents"
   ]
  },
  {
   "cell_type": "code",
   "execution_count": null,
   "metadata": {},
   "outputs": [],
   "source": [
    "display(Markdown(get_yaml_config_as_markdown(config_path, \"agents\")))"
   ]
  },
  {
   "cell_type": "markdown",
   "metadata": {},
   "source": [
    "### Tasks Definition"
   ]
  },
  {
   "cell_type": "code",
   "execution_count": null,
   "metadata": {},
   "outputs": [],
   "source": [
    "display(Markdown(get_yaml_config_as_markdown(config_path, \"tasks\")))"
   ]
  },
  {
   "cell_type": "markdown",
   "metadata": {},
   "source": [
    "## Fundamentals Tool\n",
    "\n",
    "To demonstrate the tool that the fundamental analyst agent uses, we show the following example output.\n",
    "\n",
    "This tool extracts the latest fundamental data using Alpha Vantage for income statement and balance sheet, and Yahoo Finance for price data.  \n",
    "The tool condenses the data into 2 tables formatted as Markdown to make it easier for the LLM agent to interpret the data."
   ]
  },
  {
   "cell_type": "code",
   "execution_count": null,
   "metadata": {},
   "outputs": [],
   "source": [
    "from finmas.data.market.fundamentals import StockFundamentalsTool\n",
    "\n",
    "fundamentals_tool = StockFundamentalsTool()\n",
    "\n",
    "display(Markdown(fundamentals_tool.run(TICKER)))"
   ]
  },
  {
   "cell_type": "markdown",
   "metadata": {},
   "source": [
    "## Technical Analysis Tool\n",
    "\n",
    "To demonstrate the tool that the technical analyst agent uses, we show the following example output.\\\n",
    "The tool extracts the latest price data using Yahoo Finance and resamples the data to a weekly timeframe.\\\n",
    "The technical indicators 20 week moving average, 50 week moving average are used for indicating the trend of the stock.\\\n",
    "The momentum indicator RSI14 and the volatility indicator Bollinger Band percentage are used\\\n",
    "to indicate the strength of the momentum and the volatility of the stock."
   ]
  },
  {
   "cell_type": "code",
   "execution_count": null,
   "metadata": {},
   "outputs": [],
   "source": [
    "from finmas.data.market.technical_analysis import TechnicalAnalysisTool\n",
    "\n",
    "ta_tool = TechnicalAnalysisTool()\n",
    "\n",
    "display(Markdown(ta_tool.run(TICKER)))"
   ]
  },
  {
   "cell_type": "markdown",
   "metadata": {},
   "source": [
    "## Create Crew\n",
    "\n",
    "This section creates the crew with the configuration of agents and tasks defined above.\n",
    "The crew will use the output from the tools shown above to make a decision on the stock."
   ]
  },
  {
   "cell_type": "code",
   "execution_count": null,
   "metadata": {},
   "outputs": [],
   "source": [
    "%%capture\n",
    "start = time.time()\n",
    "crew = MarketDataCrew(\n",
    "    ticker=TICKER,\n",
    "    llm_provider=LLM_PROVIDER,\n",
    "    llm_model=LLM_MODEL,\n",
    "    temperature=LLM_TEMPERATURE,\n",
    "    max_tokens=LLM_MAX_TOKENS,\n",
    ")"
   ]
  },
  {
   "cell_type": "markdown",
   "metadata": {},
   "source": [
    "## Run the analysis"
   ]
  },
  {
   "cell_type": "code",
   "execution_count": null,
   "metadata": {},
   "outputs": [],
   "source": [
    "%%capture\n",
    "inputs = {\"ticker\": TICKER}  # \"form\": filing.form}\n",
    "output = crew.crew().kickoff(inputs=inputs)\n",
    "time_spent = time.time() - start\n",
    "display(f\"Time spent: {format_time_spent(time_spent)}\")"
   ]
  },
  {
   "cell_type": "markdown",
   "metadata": {},
   "source": [
    "## Save the results"
   ]
  },
  {
   "cell_type": "code",
   "execution_count": null,
   "metadata": {},
   "outputs": [],
   "source": [
    "crew_run_metrics = CrewRunMetrics(\n",
    "    config=crew.config, token_usage=output.token_usage, time_spent=time_spent\n",
    ")\n",
    "file_path = save_crew_output(crew_run_metrics, output.raw)\n",
    "display(f\"Output saved to: {file_path}\")"
   ]
  },
  {
   "cell_type": "markdown",
   "metadata": {},
   "source": [
    "## Display the results"
   ]
  },
  {
   "cell_type": "code",
   "execution_count": null,
   "metadata": {},
   "outputs": [],
   "source": [
    "crew_output = file_path.read_text(encoding=\"utf-8\")\n",
    "display(Markdown(crew_output))"
   ]
  }
 ],
 "metadata": {
  "kernelspec": {
   "display_name": ".venv",
   "language": "python",
   "name": "python3"
  },
  "language_info": {
   "codemirror_mode": {
    "name": "ipython",
    "version": 3
   },
   "file_extension": ".py",
   "mimetype": "text/x-python",
   "name": "python",
   "nbconvert_exporter": "python",
   "pygments_lexer": "ipython3",
   "version": "3.11.9"
  }
 },
 "nbformat": 4,
 "nbformat_minor": 4
}
