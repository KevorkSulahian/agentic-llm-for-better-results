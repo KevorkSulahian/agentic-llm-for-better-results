{
 "cells": [
  {
   "cell_type": "markdown",
   "metadata": {},
   "source": [
    "# SEC Filing Analysis by FinMAS\n",
    "\n",
    "This notebook can be used to run an analysis by SEC filing crew instead of using the UI / panel app."
   ]
  },
  {
   "cell_type": "code",
   "execution_count": null,
   "metadata": {},
   "outputs": [],
   "source": [
    "# Convenience function to change the working directory to the root of the project if necessary\n",
    "from pathlib import Path\n",
    "import os\n",
    "\n",
    "if not Path(\"finmas\").exists():\n",
    "    os.chdir(\"..\")\n",
    "print(f\"Current working directory: {Path.cwd()}\")"
   ]
  },
  {
   "cell_type": "code",
   "execution_count": null,
   "metadata": {},
   "outputs": [],
   "source": [
    "%%capture\n",
    "import time\n",
    "\n",
    "from edgar import Company\n",
    "from IPython.display import Markdown, display\n",
    "\n",
    "from finmas.crews import SECFilingSectionsCrew\n",
    "from finmas.crews.utils import CrewRunMetrics, save_crew_output, get_yaml_config_as_markdown\n",
    "from finmas.utils.common import format_time_spent"
   ]
  },
  {
   "cell_type": "markdown",
   "metadata": {},
   "source": [
    "To be able to run this notebook make sure the necessary API_KEY for the LLM is set in the `.env` file\n",
    "or set in the environment variables manually\n",
    "\n",
    "| provider | API_KEY |\n",
    "| --- | --- |\n",
    "| groq | GROQ_API_KEY |\n",
    "| openai | OPENAI_API_KEY |"
   ]
  },
  {
   "cell_type": "markdown",
   "metadata": {},
   "source": [
    "## Configuration\n",
    "\n",
    "List of Groq models: https://console.groq.com/settings/limits"
   ]
  },
  {
   "cell_type": "code",
   "execution_count": null,
   "metadata": {},
   "outputs": [],
   "source": [
    "TICKER = \"MSFT\"\n",
    "FILING_FORM = \"10-K\"\n",
    "\n",
    "# LLM_PROVIDER = \"groq\"\n",
    "# LLM_MODEL = \"llama3-8b-8192\"\n",
    "LLM_PROVIDER = \"openai\"\n",
    "LLM_MODEL = \"gpt-4o\"\n",
    "# LLM_MODEL = \"gpt-4o-mini\"\n",
    "\n",
    "EMBEDDING_MODEL = \"BAAI/bge-small-en-v1.5\"\n",
    "\n",
    "SIMILARITY_TOP_K = 3\n",
    "# LLM configuration\n",
    "LLM_TEMPERATURE = 0.0\n",
    "LLM_MAX_TOKENS = 1024\n",
    "\n",
    "CREW_NAME = \"sec_mda_risk_factors\""
   ]
  },
  {
   "cell_type": "markdown",
   "metadata": {},
   "source": [
    "## Get filing"
   ]
  },
  {
   "cell_type": "code",
   "execution_count": null,
   "metadata": {},
   "outputs": [],
   "source": [
    "filing = Company(TICKER).get_filings(form=FILING_FORM).latest(1)"
   ]
  },
  {
   "cell_type": "markdown",
   "metadata": {},
   "source": [
    "## Crew Configuration"
   ]
  },
  {
   "cell_type": "code",
   "execution_count": null,
   "metadata": {},
   "outputs": [],
   "source": [
    "config_path = Path.cwd() / \"finmas\" / \"crews\" / CREW_NAME / \"config\""
   ]
  },
  {
   "cell_type": "markdown",
   "metadata": {},
   "source": [
    "### Agents"
   ]
  },
  {
   "cell_type": "code",
   "execution_count": null,
   "metadata": {},
   "outputs": [],
   "source": [
    "display(Markdown(get_yaml_config_as_markdown(config_path, \"agents\")))"
   ]
  },
  {
   "cell_type": "markdown",
   "metadata": {},
   "source": [
    "### Tasks Definition"
   ]
  },
  {
   "cell_type": "code",
   "execution_count": null,
   "metadata": {},
   "outputs": [],
   "source": [
    "display(Markdown(get_yaml_config_as_markdown(config_path, \"tasks\")))"
   ]
  },
  {
   "cell_type": "markdown",
   "metadata": {},
   "source": [
    "## Create Crew\n",
    "\n",
    "When creating the crew, then the SEC filing will be parsed.\n",
    "The following sections will be extracted, and a Vector Store Index will be created for each section.\n",
    "\n",
    "- Management's Discussion and Analysis\n",
    "- Risk Factors\n",
    "\n",
    "The creation of Vector Store Index requires an embedding model."
   ]
  },
  {
   "cell_type": "code",
   "execution_count": null,
   "metadata": {},
   "outputs": [],
   "source": [
    "%%capture\n",
    "start = time.time()\n",
    "crew = SECFilingSectionsCrew(\n",
    "    ticker=TICKER,\n",
    "    llm_provider=LLM_PROVIDER,\n",
    "    llm_model=LLM_MODEL,\n",
    "    embedding_model=EMBEDDING_MODEL,\n",
    "    filing=filing,\n",
    "    temperature=LLM_TEMPERATURE,\n",
    "    max_tokens=LLM_MAX_TOKENS,\n",
    "    similarity_top_k=SIMILARITY_TOP_K,\n",
    ")"
   ]
  },
  {
   "cell_type": "code",
   "execution_count": null,
   "metadata": {},
   "outputs": [],
   "source": [
    "index_creation_metrics_message = \"\"\n",
    "for attr in dir(crew):\n",
    "    if attr.endswith(\"index_creation_metrics\"):\n",
    "        index_creation_metrics_message += (\n",
    "            f\"{attr.replace('_', ' ').title()}:  \\n{getattr(crew, attr).markdown()}\\n\\n\"\n",
    "        )\n",
    "display(Markdown(index_creation_metrics_message))"
   ]
  },
  {
   "cell_type": "markdown",
   "metadata": {},
   "source": [
    "## Run the analysis"
   ]
  },
  {
   "cell_type": "code",
   "execution_count": null,
   "metadata": {},
   "outputs": [],
   "source": [
    "%%capture\n",
    "inputs = {\"ticker\": TICKER, \"form\": filing.form}\n",
    "output = crew.crew().kickoff(inputs=inputs)\n",
    "time_spent = time.time() - start\n",
    "display(f\"Time spent: {format_time_spent(time_spent)}\")"
   ]
  },
  {
   "cell_type": "markdown",
   "metadata": {},
   "source": [
    "## Save the results"
   ]
  },
  {
   "cell_type": "code",
   "execution_count": null,
   "metadata": {},
   "outputs": [],
   "source": [
    "crew_run_metrics = CrewRunMetrics(\n",
    "    config=crew.config, token_usage=output.token_usage, time_spent=time_spent\n",
    ")\n",
    "file_path = save_crew_output(crew_run_metrics, output.raw)\n",
    "display(f\"Output saved to: {file_path}\")"
   ]
  },
  {
   "cell_type": "markdown",
   "metadata": {},
   "source": [
    "## Display the results"
   ]
  },
  {
   "cell_type": "code",
   "execution_count": null,
   "metadata": {},
   "outputs": [],
   "source": [
    "crew_output = file_path.read_text(encoding=\"utf-8\")\n",
    "display(Markdown(crew_output))"
   ]
  }
 ],
 "metadata": {
  "kernelspec": {
   "display_name": "Python 3 (ipykernel)",
   "language": "python",
   "name": "python3"
  },
  "language_info": {
   "codemirror_mode": {
    "name": "ipython",
    "version": 3
   },
   "file_extension": ".py",
   "mimetype": "text/x-python",
   "name": "python",
   "nbconvert_exporter": "python",
   "pygments_lexer": "ipython3",
   "version": "3.11.9"
  }
 },
 "nbformat": 4,
 "nbformat_minor": 4
}
